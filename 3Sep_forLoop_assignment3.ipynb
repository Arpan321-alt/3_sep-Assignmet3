{
 "cells": [
  {
   "cell_type": "code",
   "execution_count": 1,
   "id": "56519ee6",
   "metadata": {},
   "outputs": [
    {
     "name": "stdout",
     "output_type": "stream",
     "text": [
      "1\n",
      "2\n",
      "3\n",
      "4\n",
      "5\n",
      "6\n",
      "7\n",
      "8\n",
      "9\n",
      "10\n"
     ]
    }
   ],
   "source": [
    "#1. \n",
    "for i in range(1,11):\n",
    "    print(i)"
   ]
  },
  {
   "cell_type": "code",
   "execution_count": 2,
   "id": "e850c9fc",
   "metadata": {},
   "outputs": [
    {
     "name": "stdout",
     "output_type": "stream",
     "text": [
      "55\n"
     ]
    }
   ],
   "source": [
    "#2.\n",
    "j=0\n",
    "for i in range(1,11):\n",
    "    j=i+j\n",
    "print(j)"
   ]
  },
  {
   "cell_type": "code",
   "execution_count": 3,
   "id": "0e4deba3",
   "metadata": {},
   "outputs": [
    {
     "name": "stdout",
     "output_type": "stream",
     "text": [
      "hsehsiv\n"
     ]
    }
   ],
   "source": [
    "#3.\n",
    "# vishesh in reverse hsehsiv\n",
    "s='vishesh'\n",
    "k=''\n",
    "for i in range(1,len(s)+1):\n",
    "    k=k+s[-i]\n",
    "print(k)"
   ]
  },
  {
   "cell_type": "code",
   "execution_count": 4,
   "id": "27c4f8a8",
   "metadata": {},
   "outputs": [
    {
     "name": "stdout",
     "output_type": "stream",
     "text": [
      "24\n"
     ]
    }
   ],
   "source": [
    "#4. factorial of a given number\n",
    "factorial_num=4\n",
    "j=1\n",
    "for i in range(factorial_num,1,-1):\n",
    "    j=j*i\n",
    "print(j)"
   ]
  },
  {
   "cell_type": "code",
   "execution_count": 5,
   "id": "5ce9ff0b",
   "metadata": {},
   "outputs": [
    {
     "name": "stdout",
     "output_type": "stream",
     "text": [
      "2 X 1 = 2\n",
      "2 X 2 = 4\n",
      "2 X 3 = 6\n",
      "2 X 4 = 8\n",
      "2 X 5 = 10\n",
      "2 X 6 = 12\n",
      "2 X 7 = 14\n",
      "2 X 8 = 16\n",
      "2 X 9 = 18\n",
      "2 X 10 = 20\n"
     ]
    }
   ],
   "source": [
    "#5.\n",
    "table_no=2\n",
    "for i in range(1,11):\n",
    "    print(table_no,'X',i,'=',table_no*i)"
   ]
  },
  {
   "cell_type": "code",
   "execution_count": 6,
   "id": "17d83300",
   "metadata": {},
   "outputs": [
    {
     "name": "stdout",
     "output_type": "stream",
     "text": [
      "no of count of even number is 3\n",
      "no of count of odd number is 4\n"
     ]
    }
   ],
   "source": [
    "#6.\n",
    "lst=[1,2,4,8,9,3,5]\n",
    "even=0\n",
    "odd=0\n",
    "for i in lst:\n",
    "    if i%2==0:\n",
    "        even=even+1\n",
    "    else:\n",
    "        odd=odd+1\n",
    "print('no of count of even number is',even)\n",
    "print('no of count of odd number is',odd)"
   ]
  },
  {
   "cell_type": "code",
   "execution_count": 7,
   "id": "7895359d",
   "metadata": {},
   "outputs": [
    {
     "name": "stdout",
     "output_type": "stream",
     "text": [
      "1\n",
      "4\n",
      "9\n",
      "16\n",
      "25\n"
     ]
    }
   ],
   "source": [
    "#7.squares of numbers\n",
    "for i in range(1,6):\n",
    "    print(i**2)"
   ]
  },
  {
   "cell_type": "code",
   "execution_count": 8,
   "id": "9b0147a3",
   "metadata": {},
   "outputs": [
    {
     "name": "stdout",
     "output_type": "stream",
     "text": [
      "11\n"
     ]
    }
   ],
   "source": [
    "#8.\n",
    "s='hello world'\n",
    "count=0\n",
    "for i in s:\n",
    "    count=count+1\n",
    "print(count)"
   ]
  },
  {
   "cell_type": "code",
   "execution_count": 9,
   "id": "8a3d9cc1",
   "metadata": {},
   "outputs": [
    {
     "name": "stdout",
     "output_type": "stream",
     "text": [
      "3.5\n"
     ]
    }
   ],
   "source": [
    "#9.\n",
    "lst1=[1,2,3,4,5,6]\n",
    "avg=sum(lst1)/len(lst1)\n",
    "print(avg)"
   ]
  },
  {
   "cell_type": "code",
   "execution_count": 10,
   "id": "c25ef6af",
   "metadata": {},
   "outputs": [
    {
     "name": "stdout",
     "output_type": "stream",
     "text": [
      "1\n",
      "2\n",
      "3\n",
      "5\n",
      "8\n"
     ]
    }
   ],
   "source": [
    "#10.fibonacci numbers\n",
    "#11235813\n",
    "n=5\n",
    "a=1\n",
    "b=0\n",
    "for i in range(n):\n",
    "    a=a+b\n",
    "    print(a)\n",
    "    b=a-b"
   ]
  },
  {
   "cell_type": "code",
   "execution_count": 11,
   "id": "8d43dddb",
   "metadata": {},
   "outputs": [
    {
     "name": "stdout",
     "output_type": "stream",
     "text": [
      "its contains duplicates\n"
     ]
    }
   ],
   "source": [
    "#11.\n",
    "lst=[1,2,3,4,5,6,7,6]\n",
    "s=0\n",
    "for i in lst:\n",
    "    if lst.count(i)>1:\n",
    "        s=1\n",
    "        break\n",
    "if s==1:\n",
    "    print('its contains duplicates')\n",
    "else:\n",
    "    print('not contains duplicates')"
   ]
  },
  {
   "cell_type": "code",
   "execution_count": 12,
   "id": "f01d7f39",
   "metadata": {},
   "outputs": [
    {
     "name": "stdout",
     "output_type": "stream",
     "text": [
      "[1, 2, 3, 5, 7, 11, 13, 17, 19]\n"
     ]
    }
   ],
   "source": [
    "#12.\n",
    "range1=20\n",
    "lst=[1,2,3,5,7]\n",
    "if range1<10:\n",
    "    print(lst)\n",
    "else:\n",
    "    for i in range(10,range1+1):\n",
    "        if i%2!=0 and i%3!=0 and i%5!=0 and i%7!=0:\n",
    "            lst.append(i)\n",
    "print(lst)"
   ]
  },
  {
   "cell_type": "code",
   "execution_count": 13,
   "id": "64521b0f",
   "metadata": {},
   "outputs": [
    {
     "name": "stdout",
     "output_type": "stream",
     "text": [
      "5\n"
     ]
    }
   ],
   "source": [
    "#13.\n",
    "s='helloiworeld'\n",
    "count=0\n",
    "for i in s:\n",
    "    if i in ['a','e','i','o','u']:\n",
    "        count=count+1\n",
    "print(count)"
   ]
  },
  {
   "cell_type": "code",
   "execution_count": 14,
   "id": "60ad46e8",
   "metadata": {},
   "outputs": [
    {
     "name": "stdout",
     "output_type": "stream",
     "text": [
      "2\n"
     ]
    }
   ],
   "source": [
    "#14.\n",
    "lst1=[[1,2,2,4,2,2],\n",
    "      [1,2,3,1,2,1,2]]\n",
    "lst1[0].sort()\n",
    "lst1[1].sort()\n",
    "max1=1\n",
    "count=0\n",
    "no=0\n",
    "for i in range(2):\n",
    "    for j in range(len(lst1[i])-1):\n",
    "        if lst1[i][j]==lst1[i][j+1]:\n",
    "            count=count+1\n",
    "        else:\n",
    "            if count>max1:\n",
    "                max1=count\n",
    "                no=lst1[i][j]\n",
    "            count=0\n",
    "print(no)"
   ]
  },
  {
   "cell_type": "code",
   "execution_count": 15,
   "id": "e59ddedf",
   "metadata": {},
   "outputs": [
    {
     "name": "stdout",
     "output_type": "stream",
     "text": [
      "[1, 3, 4, 4, 5, 3]\n"
     ]
    }
   ],
   "source": [
    "#15.\n",
    "element=2\n",
    "lst1=[1,2,3,2,4,4,5,3,2]\n",
    "for i in lst1:\n",
    "    if i==element:\n",
    "        lst1.remove(element)\n",
    "print(lst1)"
   ]
  },
  {
   "cell_type": "code",
   "execution_count": 16,
   "id": "0f4573a0",
   "metadata": {},
   "outputs": [
    {
     "name": "stdout",
     "output_type": "stream",
     "text": [
      "1 X 1 = 1\n",
      "1 X 2 = 2\n",
      "1 X 3 = 3\n",
      "1 X 4 = 4\n",
      "1 X 5 = 5\n",
      "1 X 6 = 6\n",
      "1 X 7 = 7\n",
      "1 X 8 = 8\n",
      "1 X 9 = 9\n",
      "1 X 10 = 10\n",
      "2 X 1 = 2\n",
      "2 X 2 = 4\n",
      "2 X 3 = 6\n",
      "2 X 4 = 8\n",
      "2 X 5 = 10\n",
      "2 X 6 = 12\n",
      "2 X 7 = 14\n",
      "2 X 8 = 16\n",
      "2 X 9 = 18\n",
      "2 X 10 = 20\n",
      "3 X 1 = 3\n",
      "3 X 2 = 6\n",
      "3 X 3 = 9\n",
      "3 X 4 = 12\n",
      "3 X 5 = 15\n",
      "3 X 6 = 18\n",
      "3 X 7 = 21\n",
      "3 X 8 = 24\n",
      "3 X 9 = 27\n",
      "3 X 10 = 30\n",
      "4 X 1 = 4\n",
      "4 X 2 = 8\n",
      "4 X 3 = 12\n",
      "4 X 4 = 16\n",
      "4 X 5 = 20\n",
      "4 X 6 = 24\n",
      "4 X 7 = 28\n",
      "4 X 8 = 32\n",
      "4 X 9 = 36\n",
      "4 X 10 = 40\n",
      "5 X 1 = 5\n",
      "5 X 2 = 10\n",
      "5 X 3 = 15\n",
      "5 X 4 = 20\n",
      "5 X 5 = 25\n",
      "5 X 6 = 30\n",
      "5 X 7 = 35\n",
      "5 X 8 = 40\n",
      "5 X 9 = 45\n",
      "5 X 10 = 50\n"
     ]
    }
   ],
   "source": [
    "#16.\n",
    "for i in range(1,6):\n",
    "    for j in range(1,11):\n",
    "        print(i,'X',j,'=',i*j)\n",
    "        \n",
    "    \n"
   ]
  },
  {
   "cell_type": "code",
   "execution_count": 17,
   "id": "73c3b02c",
   "metadata": {},
   "outputs": [
    {
     "name": "stdout",
     "output_type": "stream",
     "text": [
      "28 celsius\n",
      "1 celsius\n",
      "7 celsius\n",
      "19 celsius\n",
      "25 celsius\n"
     ]
    }
   ],
   "source": [
    "#17.\n",
    "farhenite_lst1=[83,34,45,67,78]\n",
    "for i in farhenite_lst1:\n",
    "    f=i-32\n",
    "    m=f*5\n",
    "    celsius=m//9\n",
    "    print(celsius,'celsius')"
   ]
  },
  {
   "cell_type": "code",
   "execution_count": 18,
   "id": "65c06c3f",
   "metadata": {},
   "outputs": [
    {
     "name": "stdout",
     "output_type": "stream",
     "text": [
      "3\n",
      "4\n"
     ]
    }
   ],
   "source": [
    "#18.\n",
    "lst1=[1,2,3,4]\n",
    "lst2=[4,3,5,6]\n",
    "for i in lst1:\n",
    "    for j in lst2:\n",
    "        if i==j:\n",
    "            print(i)\n",
    "            break\n"
   ]
  },
  {
   "cell_type": "code",
   "execution_count": 19,
   "id": "dcf97bc3",
   "metadata": {},
   "outputs": [
    {
     "name": "stdout",
     "output_type": "stream",
     "text": [
      "*\n",
      "**\n",
      "***\n",
      "****\n",
      "*****\n"
     ]
    }
   ],
   "source": [
    "#19.\n",
    "n=5\n",
    "for i in range(1,n+1):\n",
    "    for j in range(i):\n",
    "        print('*',end='')\n",
    "    print()"
   ]
  },
  {
   "cell_type": "code",
   "execution_count": 20,
   "id": "751b4c7b",
   "metadata": {},
   "outputs": [
    {
     "name": "stdout",
     "output_type": "stream",
     "text": [
      "[2, 2, 2, 2, 3]\n",
      "[2, 2, 3, 5]\n",
      "1\n"
     ]
    }
   ],
   "source": [
    "#20.\n",
    "no1=48\n",
    "no2=60\n",
    "lst=[]\n",
    "lst2=[]\n",
    "j=2\n",
    "k=2\n",
    "lst3=[]\n",
    "while no1!=1:\n",
    "    if no1%j==0:\n",
    "        lst.append(j)\n",
    "        no1=no1//j\n",
    "    else:\n",
    "        j=j+1\n",
    "        \n",
    "while no2!=1:\n",
    "    if no2%k==0:\n",
    "        lst2.append(k)\n",
    "        no2=no2//k\n",
    "    else:\n",
    "        k=k+1\n",
    "lst.sort()\n",
    "lst2.sort()\n",
    "\n",
    "print(lst)\n",
    "print(lst2)\n",
    "\n",
    "\n",
    "final_product=1\n",
    "for i in lst3:\n",
    "    final_product=final_product*i\n",
    "print(final_product)"
   ]
  },
  {
   "cell_type": "code",
   "execution_count": 21,
   "id": "83dc6459",
   "metadata": {},
   "outputs": [
    {
     "name": "stdout",
     "output_type": "stream",
     "text": [
      "15\n"
     ]
    }
   ],
   "source": [
    "#21.\n",
    "k=sum([i for i in [1,2,3,4,5]])\n",
    "print(k)"
   ]
  },
  {
   "cell_type": "code",
   "execution_count": 22,
   "id": "825caa15",
   "metadata": {},
   "outputs": [
    {
     "name": "stdout",
     "output_type": "stream",
     "text": [
      "Enter a number: 120\n",
      "The prime factors of 120 are: [2, 3, 5]\n"
     ]
    }
   ],
   "source": [
    "#22.\n",
    "def prime_factors(n):\n",
    "    factors = [i for i in range(2, n + 1) if n % i == 0]\n",
    "    prime_factors = [factor for factor in factors if all(factor % i != 0 for i in range(2, factor))]\n",
    "    return prime_factors\n",
    "\n",
    "# Input a number for which you want to find prime factors\n",
    "num = int(input(\"Enter a number: \"))\n",
    "\n",
    "if num < 2:\n",
    "    print(\"Prime factors are not applicable for numbers less than 2.\")\n",
    "else:\n",
    "    result = prime_factors(num)\n",
    "    if len(result) == 0:\n",
    "        print(f\"{num} is a prime number and has no prime factors other than 1 and itself.\")\n",
    "    else:\n",
    "        print(f\"The prime factors of {num} are: {result}\")"
   ]
  },
  {
   "cell_type": "code",
   "execution_count": 23,
   "id": "d3e79cef",
   "metadata": {},
   "outputs": [
    {
     "name": "stdout",
     "output_type": "stream",
     "text": [
      "[1, 4, 5]\n"
     ]
    }
   ],
   "source": [
    "#23.\n",
    "lst=[1,2,2,3,4,5,3]\n",
    "unique_elements=[i for i in lst if lst.count(i)==1]\n",
    "print(unique_elements)"
   ]
  },
  {
   "cell_type": "code",
   "execution_count": 33,
   "id": "681b3505",
   "metadata": {},
   "outputs": [
    {
     "name": "stdout",
     "output_type": "stream",
     "text": [
      "[1, 2, 3, 4, 5, 6, 7, 8, 9, 11, 22, 33, 44, 55, 66, 77, 88, 99, 101, 111, 121, 131, 141]\n"
     ]
    }
   ],
   "source": [
    "#24.\n",
    "reverse_list=[i for i in range(1,150) if int(str(i)[::-1])==i]\n",
    "print(reverse_list)"
   ]
  },
  {
   "cell_type": "code",
   "execution_count": 51,
   "id": "6a4d54ce",
   "metadata": {},
   "outputs": [
    {
     "name": "stdout",
     "output_type": "stream",
     "text": [
      "[1, 2, 3, 4, 5]\n"
     ]
    }
   ],
   "source": [
    "#25.\n",
    "a=[[1,2,3],[4,5]]\n",
    "b=[]\n",
    "# for i in range(len(a)):\n",
    "#     if len(a[i])>1:\n",
    "#         for j in range(len(a[i])):\n",
    "#             b.append(a[i][j])\n",
    "#or\n",
    "flatten_list=[a[i][j] for i in range(len(a))  for j in range(len(a[i])) if type(a[i])==list ]\n",
    "print(flatten_list)"
   ]
  },
  {
   "cell_type": "code",
   "execution_count": 60,
   "id": "8dbe6123",
   "metadata": {},
   "outputs": [
    {
     "name": "stdout",
     "output_type": "stream",
     "text": [
      "20\n",
      "18\n"
     ]
    }
   ],
   "source": [
    "#26.\n",
    "lst=[2,3,4,8,1,5,9,6]\n",
    "even=sum([i  for i in lst if i%2==0])\n",
    "print(even)\n",
    "odd=sum([i  for i in lst if i%2!=0])\n",
    "print(odd)"
   ]
  },
  {
   "cell_type": "code",
   "execution_count": 63,
   "id": "0c89f7dd",
   "metadata": {},
   "outputs": [
    {
     "name": "stdout",
     "output_type": "stream",
     "text": [
      "[1, 9, 25, 49, 81]\n"
     ]
    }
   ],
   "source": [
    "#27.\n",
    "squares=[i**2 for i in range(1,11) if i%2!=0]\n",
    "print(squares)"
   ]
  },
  {
   "cell_type": "code",
   "execution_count": 76,
   "id": "ca1e07f5",
   "metadata": {},
   "outputs": [
    {
     "name": "stdout",
     "output_type": "stream",
     "text": [
      "{1: 4, 2: 5, 3: 6}\n",
      "{1: 4, 2: 5, 3: 6}\n"
     ]
    }
   ],
   "source": [
    "#28.\n",
    "a=[1,2,3]\n",
    "b=[4,5,6]\n",
    "print(dict(zip(a,b)))\n",
    "#or\n",
    "dictionary={a[i]:b[i] for i in range(len(a))}\n",
    "print(dictionary)"
   ]
  },
  {
   "cell_type": "code",
   "execution_count": 77,
   "id": "39240c74",
   "metadata": {},
   "outputs": [
    {
     "name": "stdout",
     "output_type": "stream",
     "text": [
      "['a', 'a', 'e', 'o', 'o', 'e', 'i', 'o', 'u']\n"
     ]
    }
   ],
   "source": [
    "#29.\n",
    "a='arpanhelloworldeious'\n",
    "vowels=[i for i in a if i in ['a','e','i','o','u']]\n",
    "print(vowels)"
   ]
  },
  {
   "cell_type": "code",
   "execution_count": 89,
   "id": "067783b0",
   "metadata": {},
   "outputs": [
    {
     "name": "stdout",
     "output_type": "stream",
     "text": [
      "['1', '2', '4']\n"
     ]
    }
   ],
   "source": [
    "#30.\n",
    "numalpha=['1','a','2','h','4','b']\n",
    "numalpha=[i for i in numalpha if i.isalpha()==False]\n",
    "print(numalpha)"
   ]
  },
  {
   "cell_type": "code",
   "execution_count": 14,
   "id": "0a4e9050",
   "metadata": {},
   "outputs": [
    {
     "name": "stdout",
     "output_type": "stream",
     "text": [
      "1 2 3 5 7 11 13 17 19 23 29 "
     ]
    }
   ],
   "source": [
    "#challenge level\n",
    "#30.\n",
    "#Sieve of Eratosthenes algorithm\n",
    "n=30\n",
    "lst=[True]\n",
    "j=2\n",
    "lst=[True for i in range(1,n)]\n",
    "while j<len(lst):\n",
    "    for k in range(j,len(lst)+1):\n",
    "        if k%j==0 and k!=j and lst[k-1]!=False:\n",
    "            lst[k-1]=False\n",
    "    j=j+1\n",
    "for i in range(len(lst)):\n",
    "    if lst[i]==True:\n",
    "        print(i+1,end=' ')"
   ]
  },
  {
   "cell_type": "code",
   "execution_count": 21,
   "id": "e75143bd",
   "metadata": {},
   "outputs": [
    {
     "name": "stdout",
     "output_type": "stream",
     "text": [
      "Enter the value of n: 5\n",
      "[(3, 4, 5)]\n"
     ]
    }
   ],
   "source": [
    "#31.pythogrous triplets\n",
    "n = int(input('Enter the value of n: '))\n",
    "print([(a, b, c) for a in range(1, n + 1) for b in range(a, n + 1)\n",
    "       for c in range(b, n + 1) if a**2 + b**2 == c**2])"
   ]
  },
  {
   "cell_type": "code",
   "execution_count": 28,
   "id": "beea2fba",
   "metadata": {},
   "outputs": [
    {
     "data": {
      "text/plain": [
       "[['a', 1],\n",
       " ['a', 4],\n",
       " ['a', 9],\n",
       " ['d', 1],\n",
       " ['d', 4],\n",
       " ['d', 9],\n",
       " ['b', 1],\n",
       " ['b', 4],\n",
       " ['b', 9],\n",
       " ['c', 1],\n",
       " ['c', 4],\n",
       " ['c', 9]]"
      ]
     },
     "execution_count": 28,
     "metadata": {},
     "output_type": "execute_result"
    }
   ],
   "source": [
    "#32. all possible combination of two list [1,2] [a,b]=[[('a',1),('b',2)],[('a',2),('b',1)]] \n",
    "lst1=set(['a','b','c','d'])\n",
    "lst2=set([1,4,9])\n",
    "lst3=[[i,j] for i in lst1 for j in lst2]\n",
    "lst3"
   ]
  },
  {
   "cell_type": "code",
   "execution_count": 66,
   "id": "266f24ed",
   "metadata": {},
   "outputs": [
    {
     "name": "stdout",
     "output_type": "stream",
     "text": [
      "5.25\n",
      "8\n",
      "8\n"
     ]
    }
   ],
   "source": [
    "#34.\n",
    "lst=[1,2,8,4,8,8,8,8,4,8,2,3,8,5,3,4]\n",
    "mean=sum([i for i in lst])/len(lst)\n",
    "median=lst[len(lst)//2-1]\n",
    "dict1={i:lst.count(i) for i in lst}\n",
    "\n",
    "print(mean)\n",
    "print(median)\n",
    "\n",
    "max1=max(dict1.values())\n",
    "mode=[i for i in dict1 if dict1.get(i)==max1]\n",
    "print(mode[0])"
   ]
  },
  {
   "cell_type": "code",
   "execution_count": 60,
   "id": "50f5257a",
   "metadata": {},
   "outputs": [
    {
     "name": "stdout",
     "output_type": "stream",
     "text": [
      "{1: 1, 2: 2, 3: 3, 4: 5, 5: 3, 6: 1, 8: 1}\n"
     ]
    },
    {
     "data": {
      "text/plain": [
       "dict_values([1, 2, 3, 5, 3, 1, 1])"
      ]
     },
     "execution_count": 60,
     "metadata": {},
     "output_type": "execute_result"
    }
   ],
   "source": []
  },
  {
   "cell_type": "code",
   "execution_count": 77,
   "id": "7f584d4f",
   "metadata": {},
   "outputs": [
    {
     "name": "stdout",
     "output_type": "stream",
     "text": [
      "9\n"
     ]
    }
   ],
   "source": [
    "#36 36. Develop a program that calculates the sum of the digits of a factorial of numbers from 1 to 5 using list comprehension.\n",
    "from functools import reduce\n",
    "n=3\n",
    "factorial_sum=sum([reduce(lambda n,j:n*j,range(1,n+1)) for n in range(1,4)])\n",
    "print(factorial_sum)"
   ]
  },
  {
   "cell_type": "code",
   "execution_count": 100,
   "id": "a4511101",
   "metadata": {},
   "outputs": [
    {
     "data": {
      "text/plain": [
       "'trivanthipuram'"
      ]
     },
     "execution_count": 100,
     "metadata": {},
     "output_type": "execute_result"
    }
   ],
   "source": [
    "#37.\n",
    "longest_word='hi my name is arpan gupta this is vishakapatnam trivanthipuram'\n",
    "k=longest_word.split()\n",
    "c=list(map(len,k))\n",
    "k[c.index(max(c))]"
   ]
  },
  {
   "cell_type": "code",
   "execution_count": 3,
   "id": "ba494bb9",
   "metadata": {},
   "outputs": [],
   "source": [
    "#38.\n",
    "st='aj aeious agape alien canoie arpan gupta shit fit treeio'\n",
    "k=st.split()\n",
    "count=0\n",
    "f=[]\n",
    "for i in k:\n",
    "    for j in i:\n",
    "        if j in ['a','e','i','o','u']:\n",
    "            count=count+1\n",
    "    if count>=3:\n",
    "        f.append(i)\n",
    "    count=0\n"
   ]
  },
  {
   "cell_type": "code",
   "execution_count": 9,
   "id": "d022d8a4",
   "metadata": {},
   "outputs": [
    {
     "name": "stdout",
     "output_type": "stream",
     "text": [
      "['aeious', 'arpaioun']\n"
     ]
    }
   ],
   "source": [
    "#38. using list comprhension\n",
    "st='aj aeious agape alien canoie arpaioun gupta shitaeo fitou treeio'\n",
    "k=st.split()\n",
    "vowelsStr=[i for i in k  if i.count('a')+i.count('e')+i.count('o')+i.count('u')>3]\n",
    "print(vowelsStr)"
   ]
  },
  {
   "cell_type": "code",
   "execution_count": 10,
   "id": "dd1a92fe",
   "metadata": {},
   "outputs": [
    {
     "name": "stdout",
     "output_type": "stream",
     "text": [
      "500500\n"
     ]
    }
   ],
   "source": [
    "#39. sum of digits of number using list comprehension\n",
    "sum_no=sum([i for i in range(1,1001)])\n",
    "print(sum_no)"
   ]
  },
  {
   "cell_type": "code",
   "execution_count": 19,
   "id": "8888d4e5",
   "metadata": {},
   "outputs": [
    {
     "name": "stdout",
     "output_type": "stream",
     "text": [
      "its a polindermic number\n"
     ]
    }
   ],
   "source": [
    "#40. prime polindoremic numbers like 313 using list comprhension\n",
    "\n",
    "n=313\n",
    "orignal_no=313\n",
    "rev=0\n",
    "def prime_no(n):\n",
    "    if n%2!=0 and n%3!=0 and n%5!=0 and n%7!=0:\n",
    "        return True\n",
    "    else:\n",
    "        return False\n",
    "if prime_no(n):\n",
    "    while n!=0:\n",
    "        rem=n%10\n",
    "        rev=rev*10+rem\n",
    "        n=n//10\n",
    "    if orignal_no==rev:\n",
    "        print('its a polindermic number')\n",
    "    else:\n",
    "        print('its not a polindermic number')\n",
    "else:\n",
    "    print('its not a polindoremic number because its not a prime number')"
   ]
  },
  {
   "cell_type": "code",
   "execution_count": null,
   "id": "76ea6752",
   "metadata": {},
   "outputs": [],
   "source": []
  },
  {
   "cell_type": "code",
   "execution_count": null,
   "id": "c60475c6",
   "metadata": {},
   "outputs": [],
   "source": []
  }
 ],
 "metadata": {
  "kernelspec": {
   "display_name": "Python 3 (ipykernel)",
   "language": "python",
   "name": "python3"
  },
  "language_info": {
   "codemirror_mode": {
    "name": "ipython",
    "version": 3
   },
   "file_extension": ".py",
   "mimetype": "text/x-python",
   "name": "python",
   "nbconvert_exporter": "python",
   "pygments_lexer": "ipython3",
   "version": "3.11.4"
  }
 },
 "nbformat": 4,
 "nbformat_minor": 5
}
